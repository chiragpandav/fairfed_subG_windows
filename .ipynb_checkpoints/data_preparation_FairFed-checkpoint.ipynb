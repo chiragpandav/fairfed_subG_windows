{
 "cells": [
  {
   "cell_type": "code",
   "execution_count": 1,
   "id": "ae1c16e8-3988-4c43-b952-548edcf562c6",
   "metadata": {},
   "outputs": [],
   "source": [
    "from folktables import ACSDataSource, ACSEmployment,ACSIncome\n",
    "import pandas as pd\n",
    "import time\n",
    "import numpy as np\n",
    "import copy\n",
    "import glob\n",
    "import sys, os\n",
    "import torch\n",
    "import torch.nn as nn\n",
    "import torch.utils.data as data_utils\n",
    "import pickle\n",
    "from sklearn import preprocessing\n",
    "import torch.optim as optim\n",
    "from sklearn.preprocessing import LabelEncoder\n",
    "from sklearn.model_selection import train_test_split\n",
    "from folktables import ACSDataSource, ACSEmployment,ACSIncome\n",
    "import matplotlib.pyplot as plt\n",
    "import torch.nn.functional as F\n",
    "from tqdm import tqdm\n",
    "from sklearn.metrics import roc_curve\n",
    "from sklearn.model_selection import StratifiedKFold, train_test_split\n",
    "from torchvision import models\n",
    "from torchsummary import summary\n",
    "from torch.utils.data import Dataset, DataLoader\n",
    "from sklearn.metrics import accuracy_score\n",
    "import os\n",
    "from torch.utils.data import Dataset\n",
    "import numpy as np\n",
    "import torch.nn.functional as F\n",
    "import pandas as pd\n",
    "from scipy.stats import multivariate_normal\n",
    "import torch, random, copy, os\n",
    "\n",
    "from torch.utils.data import DataLoader, Subset, random_split"
   ]
  },
  {
   "cell_type": "code",
   "execution_count": null,
   "id": "d2b7c852-0490-4b7e-ae18-ff5ca644c68c",
   "metadata": {},
   "outputs": [],
   "source": []
  },
  {
   "cell_type": "code",
   "execution_count": 2,
   "id": "0bd5d13e-76aa-4528-a9a4-6db91193b935",
   "metadata": {},
   "outputs": [],
   "source": [
    "data_source = ACSDataSource(survey_year='2018', horizon='1-Year', survey='person')\n",
    "acs_data = data_source.get_data(states=[\"AL\"], download=True)"
   ]
  },
  {
   "cell_type": "code",
   "execution_count": 3,
   "id": "d5119a3b-3d74-4511-93d1-5d313009c9b4",
   "metadata": {},
   "outputs": [],
   "source": [
    "features, label, group = ACSEmployment.df_to_pandas(acs_data)"
   ]
  },
  {
   "cell_type": "code",
   "execution_count": 4,
   "id": "86c965ad-2fbc-4525-9032-202d30b0bc2e",
   "metadata": {},
   "outputs": [
    {
     "data": {
      "text/html": [
       "<div>\n",
       "<style scoped>\n",
       "    .dataframe tbody tr th:only-of-type {\n",
       "        vertical-align: middle;\n",
       "    }\n",
       "\n",
       "    .dataframe tbody tr th {\n",
       "        vertical-align: top;\n",
       "    }\n",
       "\n",
       "    .dataframe thead th {\n",
       "        text-align: right;\n",
       "    }\n",
       "</style>\n",
       "<table border=\"1\" class=\"dataframe\">\n",
       "  <thead>\n",
       "    <tr style=\"text-align: right;\">\n",
       "      <th></th>\n",
       "      <th>AGEP</th>\n",
       "      <th>SCHL</th>\n",
       "      <th>MAR</th>\n",
       "      <th>RELP</th>\n",
       "      <th>DIS</th>\n",
       "      <th>ESP</th>\n",
       "      <th>CIT</th>\n",
       "      <th>MIG</th>\n",
       "      <th>MIL</th>\n",
       "      <th>ANC</th>\n",
       "      <th>NATIVITY</th>\n",
       "      <th>DEAR</th>\n",
       "      <th>DEYE</th>\n",
       "      <th>DREM</th>\n",
       "      <th>SEX</th>\n",
       "      <th>RAC1P</th>\n",
       "      <th>ESR</th>\n",
       "    </tr>\n",
       "  </thead>\n",
       "  <tbody>\n",
       "    <tr>\n",
       "      <th>0</th>\n",
       "      <td>19.0</td>\n",
       "      <td>18.0</td>\n",
       "      <td>5.0</td>\n",
       "      <td>17.0</td>\n",
       "      <td>2.0</td>\n",
       "      <td>0.0</td>\n",
       "      <td>1.0</td>\n",
       "      <td>3.0</td>\n",
       "      <td>4.0</td>\n",
       "      <td>1.0</td>\n",
       "      <td>1.0</td>\n",
       "      <td>2.0</td>\n",
       "      <td>2.0</td>\n",
       "      <td>2.0</td>\n",
       "      <td>2.0</td>\n",
       "      <td>1.0</td>\n",
       "      <td>False</td>\n",
       "    </tr>\n",
       "    <tr>\n",
       "      <th>1</th>\n",
       "      <td>18.0</td>\n",
       "      <td>18.0</td>\n",
       "      <td>5.0</td>\n",
       "      <td>17.0</td>\n",
       "      <td>2.0</td>\n",
       "      <td>0.0</td>\n",
       "      <td>1.0</td>\n",
       "      <td>3.0</td>\n",
       "      <td>4.0</td>\n",
       "      <td>1.0</td>\n",
       "      <td>1.0</td>\n",
       "      <td>2.0</td>\n",
       "      <td>2.0</td>\n",
       "      <td>2.0</td>\n",
       "      <td>2.0</td>\n",
       "      <td>2.0</td>\n",
       "      <td>False</td>\n",
       "    </tr>\n",
       "    <tr>\n",
       "      <th>2</th>\n",
       "      <td>53.0</td>\n",
       "      <td>17.0</td>\n",
       "      <td>5.0</td>\n",
       "      <td>16.0</td>\n",
       "      <td>1.0</td>\n",
       "      <td>0.0</td>\n",
       "      <td>1.0</td>\n",
       "      <td>1.0</td>\n",
       "      <td>4.0</td>\n",
       "      <td>2.0</td>\n",
       "      <td>1.0</td>\n",
       "      <td>2.0</td>\n",
       "      <td>2.0</td>\n",
       "      <td>1.0</td>\n",
       "      <td>1.0</td>\n",
       "      <td>1.0</td>\n",
       "      <td>False</td>\n",
       "    </tr>\n",
       "    <tr>\n",
       "      <th>3</th>\n",
       "      <td>28.0</td>\n",
       "      <td>19.0</td>\n",
       "      <td>5.0</td>\n",
       "      <td>16.0</td>\n",
       "      <td>2.0</td>\n",
       "      <td>0.0</td>\n",
       "      <td>1.0</td>\n",
       "      <td>1.0</td>\n",
       "      <td>2.0</td>\n",
       "      <td>1.0</td>\n",
       "      <td>1.0</td>\n",
       "      <td>2.0</td>\n",
       "      <td>2.0</td>\n",
       "      <td>2.0</td>\n",
       "      <td>1.0</td>\n",
       "      <td>1.0</td>\n",
       "      <td>False</td>\n",
       "    </tr>\n",
       "    <tr>\n",
       "      <th>4</th>\n",
       "      <td>25.0</td>\n",
       "      <td>12.0</td>\n",
       "      <td>5.0</td>\n",
       "      <td>16.0</td>\n",
       "      <td>1.0</td>\n",
       "      <td>0.0</td>\n",
       "      <td>1.0</td>\n",
       "      <td>3.0</td>\n",
       "      <td>4.0</td>\n",
       "      <td>1.0</td>\n",
       "      <td>1.0</td>\n",
       "      <td>2.0</td>\n",
       "      <td>2.0</td>\n",
       "      <td>1.0</td>\n",
       "      <td>2.0</td>\n",
       "      <td>1.0</td>\n",
       "      <td>False</td>\n",
       "    </tr>\n",
       "  </tbody>\n",
       "</table>\n",
       "</div>"
      ],
      "text/plain": [
       "   AGEP  SCHL  MAR  RELP  DIS  ESP  CIT  MIG  MIL  ANC  NATIVITY  DEAR  DEYE  \\\n",
       "0  19.0  18.0  5.0  17.0  2.0  0.0  1.0  3.0  4.0  1.0       1.0   2.0   2.0   \n",
       "1  18.0  18.0  5.0  17.0  2.0  0.0  1.0  3.0  4.0  1.0       1.0   2.0   2.0   \n",
       "2  53.0  17.0  5.0  16.0  1.0  0.0  1.0  1.0  4.0  2.0       1.0   2.0   2.0   \n",
       "3  28.0  19.0  5.0  16.0  2.0  0.0  1.0  1.0  2.0  1.0       1.0   2.0   2.0   \n",
       "4  25.0  12.0  5.0  16.0  1.0  0.0  1.0  3.0  4.0  1.0       1.0   2.0   2.0   \n",
       "\n",
       "   DREM  SEX  RAC1P    ESR  \n",
       "0   2.0  2.0    1.0  False  \n",
       "1   2.0  2.0    2.0  False  \n",
       "2   1.0  1.0    1.0  False  \n",
       "3   2.0  1.0    1.0  False  \n",
       "4   1.0  2.0    1.0  False  "
      ]
     },
     "execution_count": 4,
     "metadata": {},
     "output_type": "execute_result"
    }
   ],
   "source": [
    "merged_df=pd.concat([features, label], axis=1)\n",
    "merged_df.head()"
   ]
  },
  {
   "cell_type": "code",
   "execution_count": 5,
   "id": "e3f07ed5-bb46-41bc-a86d-fa8e2bea4ef9",
   "metadata": {},
   "outputs": [
    {
     "data": {
      "text/plain": [
       "Index(['AGEP', 'SCHL', 'MAR', 'RELP', 'DIS', 'ESP', 'CIT', 'MIG', 'MIL', 'ANC',\n",
       "       'NATIVITY', 'DEAR', 'DEYE', 'DREM', 'SEX', 'RAC1P', 'ESR'],\n",
       "      dtype='object')"
      ]
     },
     "execution_count": 5,
     "metadata": {},
     "output_type": "execute_result"
    }
   ],
   "source": [
    "merged_df.columns"
   ]
  },
  {
   "cell_type": "code",
   "execution_count": 6,
   "id": "d47df977-f8e4-4e64-8974-457a29337883",
   "metadata": {},
   "outputs": [],
   "source": [
    "merged_df=merged_df[['AGEP', 'MAR', 'MIG', 'MIL', 'ANC','NATIVITY', 'DREM','DEYE','SEX', 'RAC1P', 'ESR']]"
   ]
  },
  {
   "cell_type": "code",
   "execution_count": null,
   "id": "3303813a-5222-4219-9c05-bb10de910a99",
   "metadata": {},
   "outputs": [],
   "source": []
  },
  {
   "cell_type": "code",
   "execution_count": 7,
   "id": "f0efa75b-eb2c-4f12-a26e-d11579045eab",
   "metadata": {},
   "outputs": [
    {
     "data": {
      "text/html": [
       "<div>\n",
       "<style scoped>\n",
       "    .dataframe tbody tr th:only-of-type {\n",
       "        vertical-align: middle;\n",
       "    }\n",
       "\n",
       "    .dataframe tbody tr th {\n",
       "        vertical-align: top;\n",
       "    }\n",
       "\n",
       "    .dataframe thead th {\n",
       "        text-align: right;\n",
       "    }\n",
       "</style>\n",
       "<table border=\"1\" class=\"dataframe\">\n",
       "  <thead>\n",
       "    <tr style=\"text-align: right;\">\n",
       "      <th></th>\n",
       "      <th>AGEP</th>\n",
       "      <th>MAR</th>\n",
       "      <th>MIG</th>\n",
       "      <th>MIL</th>\n",
       "      <th>ANC</th>\n",
       "      <th>NATIVITY</th>\n",
       "      <th>DREM</th>\n",
       "      <th>DEYE</th>\n",
       "      <th>SEX</th>\n",
       "      <th>RAC1P</th>\n",
       "      <th>ESR</th>\n",
       "    </tr>\n",
       "  </thead>\n",
       "  <tbody>\n",
       "    <tr>\n",
       "      <th>29423</th>\n",
       "      <td>61.0</td>\n",
       "      <td>1.0</td>\n",
       "      <td>1.0</td>\n",
       "      <td>4.0</td>\n",
       "      <td>2.0</td>\n",
       "      <td>1.0</td>\n",
       "      <td>2.0</td>\n",
       "      <td>2.0</td>\n",
       "      <td>2.0</td>\n",
       "      <td>1.0</td>\n",
       "      <td>False</td>\n",
       "    </tr>\n",
       "    <tr>\n",
       "      <th>37380</th>\n",
       "      <td>74.0</td>\n",
       "      <td>2.0</td>\n",
       "      <td>1.0</td>\n",
       "      <td>4.0</td>\n",
       "      <td>2.0</td>\n",
       "      <td>1.0</td>\n",
       "      <td>2.0</td>\n",
       "      <td>2.0</td>\n",
       "      <td>2.0</td>\n",
       "      <td>1.0</td>\n",
       "      <td>True</td>\n",
       "    </tr>\n",
       "    <tr>\n",
       "      <th>46216</th>\n",
       "      <td>14.0</td>\n",
       "      <td>5.0</td>\n",
       "      <td>1.0</td>\n",
       "      <td>0.0</td>\n",
       "      <td>4.0</td>\n",
       "      <td>1.0</td>\n",
       "      <td>2.0</td>\n",
       "      <td>2.0</td>\n",
       "      <td>1.0</td>\n",
       "      <td>1.0</td>\n",
       "      <td>False</td>\n",
       "    </tr>\n",
       "    <tr>\n",
       "      <th>19949</th>\n",
       "      <td>47.0</td>\n",
       "      <td>1.0</td>\n",
       "      <td>1.0</td>\n",
       "      <td>4.0</td>\n",
       "      <td>1.0</td>\n",
       "      <td>1.0</td>\n",
       "      <td>2.0</td>\n",
       "      <td>2.0</td>\n",
       "      <td>2.0</td>\n",
       "      <td>1.0</td>\n",
       "      <td>False</td>\n",
       "    </tr>\n",
       "    <tr>\n",
       "      <th>24770</th>\n",
       "      <td>68.0</td>\n",
       "      <td>1.0</td>\n",
       "      <td>1.0</td>\n",
       "      <td>4.0</td>\n",
       "      <td>1.0</td>\n",
       "      <td>1.0</td>\n",
       "      <td>2.0</td>\n",
       "      <td>2.0</td>\n",
       "      <td>2.0</td>\n",
       "      <td>2.0</td>\n",
       "      <td>False</td>\n",
       "    </tr>\n",
       "    <tr>\n",
       "      <th>...</th>\n",
       "      <td>...</td>\n",
       "      <td>...</td>\n",
       "      <td>...</td>\n",
       "      <td>...</td>\n",
       "      <td>...</td>\n",
       "      <td>...</td>\n",
       "      <td>...</td>\n",
       "      <td>...</td>\n",
       "      <td>...</td>\n",
       "      <td>...</td>\n",
       "      <td>...</td>\n",
       "    </tr>\n",
       "    <tr>\n",
       "      <th>5970</th>\n",
       "      <td>66.0</td>\n",
       "      <td>1.0</td>\n",
       "      <td>1.0</td>\n",
       "      <td>4.0</td>\n",
       "      <td>1.0</td>\n",
       "      <td>1.0</td>\n",
       "      <td>2.0</td>\n",
       "      <td>2.0</td>\n",
       "      <td>2.0</td>\n",
       "      <td>1.0</td>\n",
       "      <td>False</td>\n",
       "    </tr>\n",
       "    <tr>\n",
       "      <th>36049</th>\n",
       "      <td>4.0</td>\n",
       "      <td>5.0</td>\n",
       "      <td>1.0</td>\n",
       "      <td>0.0</td>\n",
       "      <td>1.0</td>\n",
       "      <td>1.0</td>\n",
       "      <td>0.0</td>\n",
       "      <td>2.0</td>\n",
       "      <td>1.0</td>\n",
       "      <td>2.0</td>\n",
       "      <td>False</td>\n",
       "    </tr>\n",
       "    <tr>\n",
       "      <th>39186</th>\n",
       "      <td>34.0</td>\n",
       "      <td>1.0</td>\n",
       "      <td>1.0</td>\n",
       "      <td>4.0</td>\n",
       "      <td>1.0</td>\n",
       "      <td>1.0</td>\n",
       "      <td>2.0</td>\n",
       "      <td>2.0</td>\n",
       "      <td>1.0</td>\n",
       "      <td>1.0</td>\n",
       "      <td>True</td>\n",
       "    </tr>\n",
       "    <tr>\n",
       "      <th>29902</th>\n",
       "      <td>71.0</td>\n",
       "      <td>1.0</td>\n",
       "      <td>1.0</td>\n",
       "      <td>4.0</td>\n",
       "      <td>4.0</td>\n",
       "      <td>1.0</td>\n",
       "      <td>2.0</td>\n",
       "      <td>2.0</td>\n",
       "      <td>2.0</td>\n",
       "      <td>1.0</td>\n",
       "      <td>True</td>\n",
       "    </tr>\n",
       "    <tr>\n",
       "      <th>41916</th>\n",
       "      <td>72.0</td>\n",
       "      <td>1.0</td>\n",
       "      <td>1.0</td>\n",
       "      <td>4.0</td>\n",
       "      <td>1.0</td>\n",
       "      <td>1.0</td>\n",
       "      <td>2.0</td>\n",
       "      <td>2.0</td>\n",
       "      <td>1.0</td>\n",
       "      <td>1.0</td>\n",
       "      <td>False</td>\n",
       "    </tr>\n",
       "  </tbody>\n",
       "</table>\n",
       "<p>47777 rows × 11 columns</p>\n",
       "</div>"
      ],
      "text/plain": [
       "       AGEP  MAR  MIG  MIL  ANC  NATIVITY  DREM  DEYE  SEX  RAC1P    ESR\n",
       "29423  61.0  1.0  1.0  4.0  2.0       1.0   2.0   2.0  2.0    1.0  False\n",
       "37380  74.0  2.0  1.0  4.0  2.0       1.0   2.0   2.0  2.0    1.0   True\n",
       "46216  14.0  5.0  1.0  0.0  4.0       1.0   2.0   2.0  1.0    1.0  False\n",
       "19949  47.0  1.0  1.0  4.0  1.0       1.0   2.0   2.0  2.0    1.0  False\n",
       "24770  68.0  1.0  1.0  4.0  1.0       1.0   2.0   2.0  2.0    2.0  False\n",
       "...     ...  ...  ...  ...  ...       ...   ...   ...  ...    ...    ...\n",
       "5970   66.0  1.0  1.0  4.0  1.0       1.0   2.0   2.0  2.0    1.0  False\n",
       "36049   4.0  5.0  1.0  0.0  1.0       1.0   0.0   2.0  1.0    2.0  False\n",
       "39186  34.0  1.0  1.0  4.0  1.0       1.0   2.0   2.0  1.0    1.0   True\n",
       "29902  71.0  1.0  1.0  4.0  4.0       1.0   2.0   2.0  2.0    1.0   True\n",
       "41916  72.0  1.0  1.0  4.0  1.0       1.0   2.0   2.0  1.0    1.0  False\n",
       "\n",
       "[47777 rows x 11 columns]"
      ]
     },
     "execution_count": 7,
     "metadata": {},
     "output_type": "execute_result"
    }
   ],
   "source": [
    "shuffled = merged_df.sample(frac=1)\n",
    "shuffled"
   ]
  },
  {
   "cell_type": "code",
   "execution_count": 8,
   "id": "3d0f0d06-5020-4e7c-9f8b-94b7523174d2",
   "metadata": {},
   "outputs": [
    {
     "name": "stdout",
     "output_type": "stream",
     "text": [
      "total_number:  47777\n",
      "Random numbers: [37629 10148]\n",
      "Sum: 47777\n"
     ]
    }
   ],
   "source": [
    "import numpy as np\n",
    "\n",
    "total_number = len(merged_df)\n",
    "print(\"total_number: \",total_number)\n",
    "\n",
    "num_parts = 2\n",
    "lower_limit = 20000\n",
    "upper_limit = 50000\n",
    "\n",
    "# Generate 9 random numbers between lower_limit and upper_limit\n",
    "random_numbers = np.random.randint(lower_limit, upper_limit + 1, num_parts - 1)\n",
    "\n",
    "# Sort the random numbers to ensure variety and add the remaining to the last number\n",
    "random_numbers = np.sort(random_numbers)\n",
    "random_numbers = np.append(random_numbers, total_number - np.sum(random_numbers))\n",
    "\n",
    "print(\"Random numbers:\", random_numbers)\n",
    "print(\"Sum:\", np.sum(random_numbers))\n"
   ]
  },
  {
   "cell_type": "code",
   "execution_count": 9,
   "id": "7c0a40f9-c50e-4233-b666-9c6efa84b55b",
   "metadata": {},
   "outputs": [
    {
     "name": "stderr",
     "output_type": "stream",
     "text": [
      "/home/chiragapandav/Downloads/Hiwi/gpu_env/lib/python3.10/site-packages/numpy/core/fromnumeric.py:59: FutureWarning: 'DataFrame.swapaxes' is deprecated and will be removed in a future version. Please use 'DataFrame.transpose' instead.\n",
      "  return bound(*args, **kwds)\n"
     ]
    }
   ],
   "source": [
    "all_df_split=np.split(merged_df.sample(frac=1, random_state=42), np.cumsum(random_numbers)[:-1])"
   ]
  },
  {
   "cell_type": "code",
   "execution_count": 10,
   "id": "cf22c4c8-4aa4-4ae1-9f9f-97d4b4362ddf",
   "metadata": {},
   "outputs": [
    {
     "name": "stdout",
     "output_type": "stream",
     "text": [
      "len of Dfs 37629\n",
      "len of Dfs 10148\n"
     ]
    },
    {
     "data": {
      "text/plain": [
       "47777"
      ]
     },
     "execution_count": 10,
     "metadata": {},
     "output_type": "execute_result"
    }
   ],
   "source": [
    "temp=0\n",
    "for i in all_df_split:\n",
    "    print(\"len of Dfs\",len(i))\n",
    "    temp+=len(i)\n",
    "    \n",
    "temp"
   ]
  },
  {
   "cell_type": "code",
   "execution_count": 11,
   "id": "3a8f6d4c-1537-4943-8606-18d4a63f0721",
   "metadata": {},
   "outputs": [
    {
     "data": {
      "text/html": [
       "<div>\n",
       "<style scoped>\n",
       "    .dataframe tbody tr th:only-of-type {\n",
       "        vertical-align: middle;\n",
       "    }\n",
       "\n",
       "    .dataframe tbody tr th {\n",
       "        vertical-align: top;\n",
       "    }\n",
       "\n",
       "    .dataframe thead th {\n",
       "        text-align: right;\n",
       "    }\n",
       "</style>\n",
       "<table border=\"1\" class=\"dataframe\">\n",
       "  <thead>\n",
       "    <tr style=\"text-align: right;\">\n",
       "      <th></th>\n",
       "      <th>AGEP</th>\n",
       "      <th>MAR</th>\n",
       "      <th>MIG</th>\n",
       "      <th>MIL</th>\n",
       "      <th>ANC</th>\n",
       "      <th>NATIVITY</th>\n",
       "      <th>DREM</th>\n",
       "      <th>DEYE</th>\n",
       "      <th>SEX</th>\n",
       "      <th>RAC1P</th>\n",
       "      <th>ESR</th>\n",
       "    </tr>\n",
       "  </thead>\n",
       "  <tbody>\n",
       "    <tr>\n",
       "      <th>0</th>\n",
       "      <td>19.0</td>\n",
       "      <td>5.0</td>\n",
       "      <td>3.0</td>\n",
       "      <td>4.0</td>\n",
       "      <td>1.0</td>\n",
       "      <td>1.0</td>\n",
       "      <td>2.0</td>\n",
       "      <td>2.0</td>\n",
       "      <td>2.0</td>\n",
       "      <td>1.0</td>\n",
       "      <td>False</td>\n",
       "    </tr>\n",
       "    <tr>\n",
       "      <th>1</th>\n",
       "      <td>18.0</td>\n",
       "      <td>5.0</td>\n",
       "      <td>3.0</td>\n",
       "      <td>4.0</td>\n",
       "      <td>1.0</td>\n",
       "      <td>1.0</td>\n",
       "      <td>2.0</td>\n",
       "      <td>2.0</td>\n",
       "      <td>2.0</td>\n",
       "      <td>2.0</td>\n",
       "      <td>False</td>\n",
       "    </tr>\n",
       "    <tr>\n",
       "      <th>2</th>\n",
       "      <td>53.0</td>\n",
       "      <td>5.0</td>\n",
       "      <td>1.0</td>\n",
       "      <td>4.0</td>\n",
       "      <td>2.0</td>\n",
       "      <td>1.0</td>\n",
       "      <td>1.0</td>\n",
       "      <td>2.0</td>\n",
       "      <td>1.0</td>\n",
       "      <td>1.0</td>\n",
       "      <td>False</td>\n",
       "    </tr>\n",
       "    <tr>\n",
       "      <th>3</th>\n",
       "      <td>28.0</td>\n",
       "      <td>5.0</td>\n",
       "      <td>1.0</td>\n",
       "      <td>2.0</td>\n",
       "      <td>1.0</td>\n",
       "      <td>1.0</td>\n",
       "      <td>2.0</td>\n",
       "      <td>2.0</td>\n",
       "      <td>1.0</td>\n",
       "      <td>1.0</td>\n",
       "      <td>False</td>\n",
       "    </tr>\n",
       "    <tr>\n",
       "      <th>4</th>\n",
       "      <td>25.0</td>\n",
       "      <td>5.0</td>\n",
       "      <td>3.0</td>\n",
       "      <td>4.0</td>\n",
       "      <td>1.0</td>\n",
       "      <td>1.0</td>\n",
       "      <td>1.0</td>\n",
       "      <td>2.0</td>\n",
       "      <td>2.0</td>\n",
       "      <td>1.0</td>\n",
       "      <td>False</td>\n",
       "    </tr>\n",
       "  </tbody>\n",
       "</table>\n",
       "</div>"
      ],
      "text/plain": [
       "   AGEP  MAR  MIG  MIL  ANC  NATIVITY  DREM  DEYE  SEX  RAC1P    ESR\n",
       "0  19.0  5.0  3.0  4.0  1.0       1.0   2.0   2.0  2.0    1.0  False\n",
       "1  18.0  5.0  3.0  4.0  1.0       1.0   2.0   2.0  2.0    2.0  False\n",
       "2  53.0  5.0  1.0  4.0  2.0       1.0   1.0   2.0  1.0    1.0  False\n",
       "3  28.0  5.0  1.0  2.0  1.0       1.0   2.0   2.0  1.0    1.0  False\n",
       "4  25.0  5.0  3.0  4.0  1.0       1.0   1.0   2.0  2.0    1.0  False"
      ]
     },
     "execution_count": 11,
     "metadata": {},
     "output_type": "execute_result"
    }
   ],
   "source": [
    "merged_df.head()"
   ]
  },
  {
   "cell_type": "code",
   "execution_count": 12,
   "id": "fb5edac3-d7e5-4055-890d-8260336d8df6",
   "metadata": {},
   "outputs": [
    {
     "data": {
      "text/html": [
       "<div>\n",
       "<style scoped>\n",
       "    .dataframe tbody tr th:only-of-type {\n",
       "        vertical-align: middle;\n",
       "    }\n",
       "\n",
       "    .dataframe tbody tr th {\n",
       "        vertical-align: top;\n",
       "    }\n",
       "\n",
       "    .dataframe thead th {\n",
       "        text-align: right;\n",
       "    }\n",
       "</style>\n",
       "<table border=\"1\" class=\"dataframe\">\n",
       "  <thead>\n",
       "    <tr style=\"text-align: right;\">\n",
       "      <th></th>\n",
       "      <th>AGEP</th>\n",
       "      <th>MAR</th>\n",
       "      <th>MIG</th>\n",
       "      <th>MIL</th>\n",
       "      <th>ANC</th>\n",
       "      <th>NATIVITY</th>\n",
       "      <th>DREM</th>\n",
       "      <th>DEYE</th>\n",
       "      <th>SEX</th>\n",
       "      <th>RAC1P</th>\n",
       "      <th>ESR</th>\n",
       "    </tr>\n",
       "  </thead>\n",
       "  <tbody>\n",
       "  </tbody>\n",
       "</table>\n",
       "</div>"
      ],
      "text/plain": [
       "Empty DataFrame\n",
       "Columns: [AGEP, MAR, MIG, MIL, ANC, NATIVITY, DREM, DEYE, SEX, RAC1P, ESR]\n",
       "Index: []"
      ]
     },
     "execution_count": 12,
     "metadata": {},
     "output_type": "execute_result"
    }
   ],
   "source": [
    "merged_df[merged_df.isna().any(axis=1)]"
   ]
  },
  {
   "cell_type": "code",
   "execution_count": 13,
   "id": "53aa535d-3e79-4f6e-a6a0-823625a27411",
   "metadata": {},
   "outputs": [
    {
     "data": {
      "text/plain": [
       "[]"
      ]
     },
     "execution_count": 13,
     "metadata": {},
     "output_type": "execute_result"
    }
   ],
   "source": [
    "merged_df.columns[merged_df.isna().any()].tolist()"
   ]
  },
  {
   "cell_type": "code",
   "execution_count": null,
   "id": "3df92716-5bcd-4611-8fb4-00e9832044ca",
   "metadata": {},
   "outputs": [],
   "source": []
  },
  {
   "cell_type": "code",
   "execution_count": 34,
   "id": "c5b7942d-80bd-4627-bfec-e98da6877937",
   "metadata": {},
   "outputs": [
    {
     "name": "stderr",
     "output_type": "stream",
     "text": [
      "/home/chiragapandav/Downloads/Hiwi/gpu_env/lib/python3.10/site-packages/sklearn/preprocessing/_label.py:97: DataConversionWarning: A column-vector y was passed when a 1d array was expected. Please change the shape of y to (n_samples, ), for example using ravel().\n",
      "  y = column_or_1d(y, warn=True)\n",
      "/home/chiragapandav/Downloads/Hiwi/gpu_env/lib/python3.10/site-packages/sklearn/preprocessing/_label.py:132: DataConversionWarning: A column-vector y was passed when a 1d array was expected. Please change the shape of y to (n_samples, ), for example using ravel().\n",
      "  y = column_or_1d(y, dtype=self.classes_.dtype, warn=True)\n"
     ]
    }
   ],
   "source": [
    "y1= merged_df[['ESR']]  \n",
    "\n",
    "encoder.fit(y1)\n",
    "\n",
    "y1 = encoder.transform(y1)\n"
   ]
  },
  {
   "cell_type": "code",
   "execution_count": 35,
   "id": "0fc297cd-376f-421c-9400-aa2e551a85b0",
   "metadata": {},
   "outputs": [
    {
     "data": {
      "text/plain": [
       "array([0, 0, 0, ..., 0, 0, 0])"
      ]
     },
     "execution_count": 35,
     "metadata": {},
     "output_type": "execute_result"
    }
   ],
   "source": [
    "y1"
   ]
  },
  {
   "cell_type": "code",
   "execution_count": 36,
   "id": "966ee27f-a31f-4f07-b72a-43dcfffaeeea",
   "metadata": {},
   "outputs": [
    {
     "data": {
      "text/plain": [
       "array([False, False, False, ..., False, False, False])"
      ]
     },
     "execution_count": 36,
     "metadata": {},
     "output_type": "execute_result"
    }
   ],
   "source": [
    "encoder.inverse_transform(y1)"
   ]
  },
  {
   "cell_type": "code",
   "execution_count": null,
   "id": "59f1fd5a-c878-4a9c-9717-0bcd57056d21",
   "metadata": {},
   "outputs": [],
   "source": []
  },
  {
   "cell_type": "code",
   "execution_count": null,
   "id": "7346d835-10d5-4f3c-88f0-734882c780ef",
   "metadata": {},
   "outputs": [],
   "source": []
  },
  {
   "cell_type": "code",
   "execution_count": null,
   "id": "acd43fa6-f90e-4ef1-b86a-e3c951494a7a",
   "metadata": {},
   "outputs": [],
   "source": []
  },
  {
   "cell_type": "code",
   "execution_count": 22,
   "id": "77cf8b84-c0c2-48fe-b6a7-98b28534c5c1",
   "metadata": {},
   "outputs": [
    {
     "name": "stdout",
     "output_type": "stream",
     "text": [
      "[0 1 0 ... 1 1 1]\n",
      "[0 1 0 ... 0 0 0]\n"
     ]
    },
    {
     "name": "stderr",
     "output_type": "stream",
     "text": [
      "/home/chiragapandav/Downloads/Hiwi/gpu_env/lib/python3.10/site-packages/sklearn/preprocessing/_label.py:97: DataConversionWarning: A column-vector y was passed when a 1d array was expected. Please change the shape of y to (n_samples, ), for example using ravel().\n",
      "  y = column_or_1d(y, warn=True)\n",
      "/home/chiragapandav/Downloads/Hiwi/gpu_env/lib/python3.10/site-packages/sklearn/preprocessing/_label.py:132: DataConversionWarning: A column-vector y was passed when a 1d array was expected. Please change the shape of y to (n_samples, ), for example using ravel().\n",
      "  y = column_or_1d(y, dtype=self.classes_.dtype, warn=True)\n",
      "/home/chiragapandav/Downloads/Hiwi/gpu_env/lib/python3.10/site-packages/sklearn/preprocessing/_label.py:97: DataConversionWarning: A column-vector y was passed when a 1d array was expected. Please change the shape of y to (n_samples, ), for example using ravel().\n",
      "  y = column_or_1d(y, warn=True)\n",
      "/home/chiragapandav/Downloads/Hiwi/gpu_env/lib/python3.10/site-packages/sklearn/preprocessing/_label.py:132: DataConversionWarning: A column-vector y was passed when a 1d array was expected. Please change the shape of y to (n_samples, ), for example using ravel().\n",
      "  y = column_or_1d(y, dtype=self.classes_.dtype, warn=True)\n"
     ]
    }
   ],
   "source": [
    "from sklearn.preprocessing import StandardScaler, LabelEncoder\n",
    "scaler = StandardScaler()\n",
    "encoder = LabelEncoder()\n",
    "\n",
    "list_client_df=[]\n",
    "output_directory=\"/home/chiragapandav/Downloads/Hiwi/Improving-Fairness-via-Federated-Learning/FedFB/data_fairFed/\"\n",
    "\n",
    "\n",
    "for idx, ind_df in enumerate(all_df_split):\n",
    "    \n",
    "    output_filename = os.path.join(output_directory, f\"client_{idx}.csv\")\n",
    "    ind_df.to_csv(output_filename, index=False)\n",
    "\n",
    "    X = ind_df[['AGEP', 'MAR', 'MIG', 'MIL', 'ANC','NATIVITY', 'DREM','DEYE', 'RAC1P',]]\n",
    "    y = ind_df[['ESR']]\n",
    "    # sensitive_attribute = ind_df['SEX'].to_numpy()\n",
    "    \n",
    "    sensitive_attribute=ind_df['SEX'].map({1: 1, 2: 0}).to_numpy()\n",
    "    \n",
    "    print(sensitive_attribute)\n",
    "    X = scaler.fit_transform(X)\n",
    "    encoder.fit(y)\n",
    "    y = encoder.transform(y)\n",
    "    \n",
    "    X = torch.tensor(X, dtype=torch.float32)\n",
    "    y = torch.tensor(y, dtype=torch.float32).reshape(-1, 1)\n",
    "    sensitive_attribute = torch.tensor(sensitive_attribute, dtype=torch.float32).reshape(-1, 1)\n",
    "    \n",
    "    final_data = data_utils.TensorDataset(X, y, sensitive_attribute)\n",
    "        \n",
    "    list_client_df.append(final_data)\n",
    "\n",
    "# dataset = data_utils.TensorDataset(X, y, sensitive_attribute)\n",
    "# batch_size = 2  # Adjust the batch size as needed\n",
    "# dataloader = DataLoader(dataset, batch_size=batch_size, shuffle=True)\n",
    "\n",
    "# for batch in dataloader:\n",
    "#     features, labels, sensitive = batch\n",
    "#     print(\"Features:\", features)\n",
    "#     print(\"Labels:\", labels)\n",
    "#     print(\"Sensitive Attribute:\", sensitive)\n",
    "#     break"
   ]
  },
  {
   "cell_type": "code",
   "execution_count": null,
   "id": "ffb9adf6-5b06-4f48-8c81-eda6840ef044",
   "metadata": {},
   "outputs": [],
   "source": []
  },
  {
   "cell_type": "code",
   "execution_count": null,
   "id": "a55223d2-0e28-4ec1-95f9-a10d4f8e304e",
   "metadata": {},
   "outputs": [],
   "source": []
  },
  {
   "cell_type": "code",
   "execution_count": null,
   "id": "af72bdd5-02c7-4f6d-9be5-0f7cfc7b52eb",
   "metadata": {},
   "outputs": [],
   "source": []
  },
  {
   "cell_type": "code",
   "execution_count": 23,
   "id": "2acd46d3-9ea5-4e20-9d75-e5eed2a2acc4",
   "metadata": {},
   "outputs": [
    {
     "name": "stdout",
     "output_type": "stream",
     "text": [
      "0 :: 37629 :: 1881  ::  9407  ::  26341\n",
      "1 :: 10148 :: 507  ::  2537  ::  7104\n"
     ]
    }
   ],
   "source": [
    "valset_ratio=0.05\n",
    "testset_ratio=0.25\n",
    "BATCH=64\n",
    "\n",
    "client_data_for_training=[]\n",
    "client_data_for_validation=[]\n",
    "client_data_for_testing=[]\n",
    "\n",
    "for i in range(len(all_df_split)):\n",
    "    \n",
    "    val_samples_num = int(len(list_client_df[i]) * valset_ratio)\n",
    "    test_samples_num = int(len(list_client_df[i]) * testset_ratio)\n",
    "    train_samples_num = len(list_client_df[i]) - val_samples_num - test_samples_num\n",
    "\n",
    "\n",
    "    trainset, valset, testset = random_split(\n",
    "            list_client_df[i], [train_samples_num, val_samples_num, test_samples_num])\n",
    "\n",
    "    trainloader = data_utils.DataLoader(trainset, batch_size=BATCH, shuffle=True)\n",
    "    valloader = data_utils.DataLoader(valset, batch_size=BATCH)\n",
    "    testloader = data_utils.DataLoader(testset, batch_size=BATCH)\n",
    "\n",
    "    client_data_for_training.append(trainloader)\n",
    "    client_data_for_validation.append(valloader)\n",
    "    client_data_for_testing.append(testloader)\n",
    "\n",
    "    print(i,\"::\",len(list_client_df[i]),\"::\",val_samples_num,\" :: \",test_samples_num,\" :: \",train_samples_num)"
   ]
  },
  {
   "cell_type": "code",
   "execution_count": 24,
   "id": "a4195a74-fcc2-47bb-a613-4bdd67d72640",
   "metadata": {},
   "outputs": [],
   "source": [
    "with open(\"/home/chiragapandav/Downloads/Hiwi/Improving-Fairness-via-Federated-Learning/FedFB/data_fairFed/clients_training.pkl\", \"wb\") as f:\n",
    "    pickle.dump(client_data_for_training, f)\n",
    "    \n",
    "with open(\"/home/chiragapandav/Downloads/Hiwi/Improving-Fairness-via-Federated-Learning/FedFB/data_fairFed/clients_validation.pkl\", \"wb\") as f:\n",
    "    pickle.dump(client_data_for_validation, f)\n",
    "    \n",
    "with open(\"/home/chiragapandav/Downloads/Hiwi/Improving-Fairness-via-Federated-Learning/FedFB/data_fairFed/clients_testing.pkl\", \"wb\") as f:\n",
    "    pickle.dump(client_data_for_testing, f)"
   ]
  },
  {
   "cell_type": "code",
   "execution_count": null,
   "id": "dcd48ee9-b08a-4756-a8f7-33c8099d626e",
   "metadata": {},
   "outputs": [],
   "source": []
  },
  {
   "cell_type": "code",
   "execution_count": null,
   "id": "4f48bdc7-a0ef-49aa-8a27-c44d7248a7ee",
   "metadata": {},
   "outputs": [],
   "source": []
  },
  {
   "cell_type": "code",
   "execution_count": 17,
   "id": "07a9e935-dfc5-48ef-86c8-35826b752c6a",
   "metadata": {},
   "outputs": [],
   "source": [
    "# client_9=\"/home/chiragapandav/Downloads/Hiwi/Improving-Fairness-via-Federated-Learning/FedFB/client_df/client_0.csv\"\n",
    "# df9=pd.read_csv(client_9)\n",
    "# df9"
   ]
  },
  {
   "cell_type": "code",
   "execution_count": null,
   "id": "0ba17a28-2550-4c9d-9cf5-b60505bc9e0e",
   "metadata": {},
   "outputs": [],
   "source": [
    "# Recall in positive class"
   ]
  },
  {
   "cell_type": "code",
   "execution_count": null,
   "id": "2e4be10f-d3a0-4824-be19-e7cc43e030c2",
   "metadata": {},
   "outputs": [],
   "source": []
  },
  {
   "cell_type": "code",
   "execution_count": null,
   "id": "c0e56400-0409-4415-b9cc-0c7b174d1469",
   "metadata": {},
   "outputs": [],
   "source": []
  },
  {
   "cell_type": "code",
   "execution_count": null,
   "id": "158e3dff-7c5e-41ae-92fb-03719b16abbf",
   "metadata": {},
   "outputs": [],
   "source": []
  }
 ],
 "metadata": {
  "kernelspec": {
   "display_name": "Python 3 (ipykernel)",
   "language": "python",
   "name": "python3"
  },
  "language_info": {
   "codemirror_mode": {
    "name": "ipython",
    "version": 3
   },
   "file_extension": ".py",
   "mimetype": "text/x-python",
   "name": "python",
   "nbconvert_exporter": "python",
   "pygments_lexer": "ipython3",
   "version": "3.10.12"
  }
 },
 "nbformat": 4,
 "nbformat_minor": 5
}
